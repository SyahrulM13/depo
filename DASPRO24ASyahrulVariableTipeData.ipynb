{
 "cells": [
  {
   "cell_type": "code",
   "execution_count": 18,
   "id": "35270a9a",
   "metadata": {},
   "outputs": [
    {
     "name": "stdout",
     "output_type": "stream",
     "text": [
      "Nama : Arul\n",
      "Umur : 19\n",
      "Alamat : Jl. Cibolang\n",
      "Provinsi : 7413412\n",
      "Nilai Pemrograman : 100\n",
      "Status Menikah : False\n"
     ]
    }
   ],
   "source": [
    "name = \"Arul\"\n",
    "age = 19\n",
    "address,province = \"Jl. Cibolang\",\"7413412\"\n",
    "scorePython = 100\n",
    "isMarried = False\n",
    "\n",
    "print(\"Nama :\",name)\n",
    "print(\"Umur :\",age)\n",
    "print(\"Alamat :\",address)\n",
    "print(\"Provinsi :\",province)\n",
    "print(\"Nilai Pemrograman :\",scorePython)\n",
    "print(\"Status Menikah :\",isMarried)"
   ]
  },
  {
   "cell_type": "code",
   "execution_count": 19,
   "id": "1a0eae78",
   "metadata": {},
   "outputs": [
    {
     "name": "stdout",
     "output_type": "stream",
     "text": [
      "Tipe Data <name> <class 'str'>\n",
      "Tipe Data <age> <class 'int'>\n",
      "Tipe Data <address> <class 'str'>\n",
      "Tipe Data <province> <class 'str'>\n",
      "Tipe Data <scorePython> <class 'int'>\n",
      "Tipe Data <isMarried> <class 'bool'>\n"
     ]
    }
   ],
   "source": [
    "print(\"Tipe Data <name>\",type(name))\n",
    "print(\"Tipe Data <age>\",type(age))\n",
    "print(\"Tipe Data <address>\",type(address))\n",
    "print(\"Tipe Data <province>\",type(province))\n",
    "print(\"Tipe Data <scorePython>\",type(scorePython))\n",
    "print(\"Tipe Data <isMarried>\",type(isMarried))"
   ]
  },
  {
   "cell_type": "code",
   "execution_count": 22,
   "id": "3a3be1b2",
   "metadata": {},
   "outputs": [
    {
     "name": "stdout",
     "output_type": "stream",
     "text": [
      "7413412-7413412.0-True\n",
      "19-19.0-True\n",
      "100-100-True\n",
      "0-0.0-False\n"
     ]
    }
   ],
   "source": [
    "#Casting atau konversi Tipe Data\n",
    "#Konversi dari String ke (int,float,bool)\n",
    "strToInt = int(province)\n",
    "strToFloat = float(province)\n",
    "strToBool = bool(province)\n",
    "print(strToInt, strToFloat, strToBool, sep=\"-\")\n",
    "#Konversi dari int ke (str,float,bool)\n",
    "intToStr = str(age)\n",
    "intToFloat = float(age)\n",
    "intToBool = bool(age)\n",
    "print(intToStr, intToFloat, intToBool, sep=\"-\")\n",
    "#Konversi dari float ke (str,int,bool)\n",
    "floatToStr = str(scorePython)\n",
    "floatToInt = int(scorePython)\n",
    "floatToBool = bool(scorePython)\n",
    "print(floatToStr, floatToInt, floatToBool, sep=\"-\")\n",
    "#Konversi dari bool ke (int,float,str)\n",
    "boolToInt = int(isMarried)\n",
    "boolToFloat = float(isMarried)\n",
    "boolToStr = str(isMarried)\n",
    "print(boolToInt, boolToFloat, boolToStr, sep=\"-\")"
   ]
  },
  {
   "cell_type": "code",
   "execution_count": 31,
   "id": "40357d61",
   "metadata": {},
   "outputs": [
    {
     "name": "stdout",
     "output_type": "stream",
     "text": [
      "B\n",
      "g\n"
     ]
    }
   ],
   "source": [
    "city = \"Bandung\"\n",
    "lenCity = len(city)\n",
    "print(city[0])\n",
    "print(city[lenCity-1])"
   ]
  },
  {
   "cell_type": "code",
   "execution_count": 37,
   "id": "3dfd52d8",
   "metadata": {},
   "outputs": [
    {
     "name": "stdout",
     "output_type": "stream",
     "text": [
      "Nilai Desimal : 200\n",
      "Nilai Desimal dari 0xff : 255\n",
      "Nilai Desimal dari 0b1010 : 10\n",
      "Nilai Desimal dari 0o377 : 255\n",
      " \n",
      "Nilai Biner dari : 200 0b11001000\n",
      "Nilai Octal dari : 200 0o310\n",
      "Nilai Hexa dari : 200 0xc8\n"
     ]
    }
   ],
   "source": [
    "desimal = 200\n",
    "hexa = 0xff\n",
    "biner = 0b1010\n",
    "octal = 0o377\n",
    "\n",
    "print(\"Nilai Desimal :\",desimal)\n",
    "print(\"Nilai Desimal dari 0xff :\",hexa)\n",
    "print(\"Nilai Desimal dari 0b1010 :\",biner)\n",
    "print(\"Nilai Desimal dari 0o377 :\",octal)\n",
    "\n",
    "print(\" \")\n",
    "\n",
    "print(\"Nilai Biner dari :\",desimal, bin(desimal))\n",
    "print(\"Nilai Octal dari :\",desimal, oct(desimal))\n",
    "print(\"Nilai Hexa dari :\",desimal, hex(desimal))"
   ]
  },
  {
   "cell_type": "code",
   "execution_count": 54,
   "id": "17e0219c",
   "metadata": {},
   "outputs": [
    {
     "name": "stdout",
     "output_type": "stream",
     "text": [
      "['Sukabumi', 'Bandung', 'Bogor', 'Jakarta']\n",
      "Sukabumi\n",
      "Jakarta\n",
      " \n",
      "['Sukabumi', 'Medan', 'Bogor', 'Jakarta']\n",
      "J\n",
      "('Andi', 'Budi', 'Caca')\n",
      "{'name': 'Arul', 'address': {'Street': 'Cisaat', 'number': 21, 'province': 'West Java'}, 'hobbies': ['Basket', 'Football'], 'age': 19, 'isMarried': True}\n",
      "West Java\n",
      "{'name': 'Syahrul', 'address': {'Street': 'Garut', 'number': 25, 'province': 'West Java'}, 'hobbies': ['Basket', 'Football'], 'age': 20, 'isMarried': False}\n",
      "Football\n",
      "20\n"
     ]
    }
   ],
   "source": [
    "#Tipe data Collection\n",
    "\n",
    "cities = [\"Sukabumi\", \"Bandung\", \"Bogor\", \"Jakarta\"]\n",
    "print(cities)\n",
    "print(cities[0])\n",
    "print(cities[len(cities)-1])\n",
    "\n",
    "print(\" \")\n",
    "\n",
    "cities[1] = \"Medan\"\n",
    "print(cities)\n",
    "print(cities[len(cities)-1][0])\n",
    "\n",
    "#Tuple\n",
    "names = (\"Andi\", \"Budi\", \"Caca\")\n",
    "print(names)\n",
    "#names[0] = \"Rudi\" akan menyebabkan error, karena tuple adalah immutable\n",
    "\n",
    "studentData = {\n",
    "    \"name\" : \"Arul\",\n",
    "    \"address\" : {\n",
    "        \"Street\" : \"Cisaat\",\n",
    "        \"number\" : 21,\n",
    "        \"province\" : \"West Java\"\n",
    "    },\n",
    "    \"hobbies\": [\"Basket\",\"Football\"],\n",
    "    \"age\" : 19,\n",
    "    \"isMarried\" : True\n",
    "}\n",
    "\n",
    "#List of Dictionary\n",
    "listStudent = [\n",
    "   {\n",
    "    \"name\" : \"Arul\",\n",
    "    \"address\" : {\n",
    "        \"Street\" : \"Garut\",\n",
    "        \"number\" : 25,\n",
    "        \"province\" : \"West Java\"\n",
    "    },\n",
    "    \"hobbies\": [\"Basket\",\"Football\"],\n",
    "    \"age\" : 20,\n",
    "    \"isMarried\" : True\n",
    "    },\n",
    "    \n",
    "    {\n",
    "    \"name\" : \"Syahrul\",\n",
    "    \"address\" : {\n",
    "        \"Street\" : \"Garut\",\n",
    "        \"number\" : 25,\n",
    "        \"province\" : \"West Java\"\n",
    "    },\n",
    "    \"hobbies\": [\"Basket\",\"Football\"],\n",
    "    \"age\" : 20,\n",
    "    \"isMarried\" : False\n",
    "    }\n",
    "]\n",
    "\n",
    "print(studentData)\n",
    "print(studentData[\"address\"][\"province\"]) #West Java\n",
    "print(listStudent[1])\n",
    "print(listStudent[0][\"hobbies\"][1])\n",
    "print(listStudent[0][\"age\"]) "
   ]
  },
  {
   "cell_type": "code",
   "execution_count": 67,
   "id": "5f9901d6",
   "metadata": {},
   "outputs": [
    {
     "name": "stdout",
     "output_type": "stream",
     "text": [
      "{'name': 'Aung', 'nilai': 100}\n",
      " \n",
      "{'Buah': 'Apel', 'Harga': 10000}\n",
      " \n",
      "{'Motor': 'Vario', 'Kecepatan': 160}\n",
      " \n",
      "{'Sepeda': 'BMX', 'Harga': 1000000}\n"
     ]
    }
   ],
   "source": [
    "#Casting dictionary\n",
    "\n",
    "list_tuple = [(\"name\", \"Aung\"), (\"nilai\",100)]\n",
    "dictStudent = dict(list_tuple)\n",
    "print(dictStudent)\n",
    "\n",
    "print(\" \")\n",
    "\n",
    "list_list = [[\"Buah\",\"Apel\"],[\"Harga\",10000]]\n",
    "dictBuah = dict(list_list)\n",
    "print(dictBuah)\n",
    "\n",
    "print(\" \")\n",
    "\n",
    "tuple_tuple = ((\"Motor\",\"Vario\"),(\"Kecepatan\",160))\n",
    "dictMotor = dict(tuple_tuple)\n",
    "print(dictMotor)\n",
    "\n",
    "print(\" \")\n",
    "\n",
    "tuple_list = ([\"Sepeda\",\"BMX\"],[\"Harga\", 1000000])\n",
    "dictSepeda = dict(tuple_list)\n",
    "print(dictSepeda)"
   ]
  }
 ],
 "metadata": {
  "kernelspec": {
   "display_name": "Python 3 (ipykernel)",
   "language": "python",
   "name": "python3"
  },
  "language_info": {
   "codemirror_mode": {
    "name": "ipython",
    "version": 3
   },
   "file_extension": ".py",
   "mimetype": "text/x-python",
   "name": "python",
   "nbconvert_exporter": "python",
   "pygments_lexer": "ipython3",
   "version": "3.9.12"
  }
 },
 "nbformat": 4,
 "nbformat_minor": 5
}
